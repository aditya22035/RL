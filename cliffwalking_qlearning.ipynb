{
 "cells": [
  {
   "cell_type": "code",
   "execution_count": 35,
   "metadata": {},
   "outputs": [],
   "source": [
    "import numpy as np\n",
    "import matplotlib.pyplot as plt\n",
    "import os\n",
    "import gymnasium as gym\n",
    "from collections import defaultdict"
   ]
  },
  {
   "cell_type": "code",
   "execution_count": 36,
   "metadata": {},
   "outputs": [
    {
     "name": "stdout",
     "output_type": "stream",
     "text": [
      "4 Discrete(48)\n"
     ]
    }
   ],
   "source": [
    "env = gym.make('CliffWalking-v0')\n",
    "numactions = env.action_space.n\n",
    "numstates = env.observation_space\n",
    "print(numactions, numstates)"
   ]
  },
  {
   "cell_type": "code",
   "execution_count": 37,
   "metadata": {},
   "outputs": [],
   "source": [
    "def epsilon_greedy(env,Q,epsilon):\n",
    "  def policy(state):\n",
    "    if state in Q:\n",
    "      if np.random.rand() < epsilon:\n",
    "        return np.random.choice(env.action_space.n)\n",
    "      else: \n",
    "        return np.argmax(Q[state])\n",
    "    else:\n",
    "      return np.random.choice(env.action_space.n)\n",
    "  return policy"
   ]
  },
  {
   "cell_type": "code",
   "execution_count": 38,
   "metadata": {},
   "outputs": [],
   "source": [
    "def qlearning(env,numeps,epsilon,alpha,gamma):\n",
    "  Q = defaultdict(lambda: np.zeros(env.action_space.n))\n",
    "  for i in range(numeps):\n",
    "    if i % 5000 == 0:\n",
    "      print(f'Episode {i}')\n",
    "    \n",
    "    policy = epsilon_greedy(env,Q,epsilon)\n",
    "    state, _ = env.reset()\n",
    "    done = False\n",
    "    \n",
    "    while not done:\n",
    "      action = policy(state)\n",
    "      tup = env.step(action)\n",
    "      next_state, reward, terminated, truncated = tup[0], tup[1], tup[2], tup[3]\n",
    "      done = terminated or truncated\n",
    "      action_greedy = np.argmax(Q[next_state])\n",
    "      Q[state][action] = Q[state][action] + alpha*(reward + gamma*Q[next_state][action_greedy] - Q[state][action])\n",
    "      state = next_state\n",
    "  \n",
    "  def deterministic_greedy(state):\n",
    "    return np.argmax(Q[state])\n",
    " \n",
    "  return Q, deterministic_greedy   \n",
    "  "
   ]
  },
  {
   "cell_type": "code",
   "execution_count": 39,
   "metadata": {},
   "outputs": [],
   "source": [
    "numeps = 10000\n",
    "epsilon = 0.1\n",
    "alpha = 0.1\n",
    "gamma = 1.0"
   ]
  },
  {
   "cell_type": "code",
   "execution_count": 40,
   "metadata": {},
   "outputs": [
    {
     "name": "stdout",
     "output_type": "stream",
     "text": [
      "Episode 0\n",
      "Episode 5000\n"
     ]
    }
   ],
   "source": [
    "Q, policy = qlearning(env,numeps,epsilon,alpha,gamma)"
   ]
  },
  {
   "cell_type": "code",
   "execution_count": 42,
   "metadata": {},
   "outputs": [
    {
     "data": {
      "image/png": "[encoded data removed]",
      "text/plain": [
       "<Figure size 1200x400 with 1 Axes>"
      ]
     },
     "metadata": {},
     "output_type": "display_data"
    }
   ],
   "source": [
    "def plot_cliffwalking_paths(Q, env, policy):\n",
    "    grid_rows, grid_cols = 4, 12  # Grid dimensions for CliffWalking-v0\n",
    "    start_state = 36  # Start state index\n",
    "    goal_state = 47   # Goal state index\n",
    "\n",
    "    # Initialize the grid\n",
    "    grid = np.zeros((grid_rows, grid_cols), dtype=int)\n",
    "\n",
    "    # Define the cliff area\n",
    "    cliff_indices = np.arange(37, 47)\n",
    "    for idx in cliff_indices:\n",
    "        row, col = divmod(idx, grid_cols)\n",
    "        grid[row, col] = -100  # Cliff cells\n",
    "\n",
    "    # Compute the optimal path\n",
    "    state, _ = env.reset()\n",
    "    optimal_path = []\n",
    "    done = False\n",
    "    while not done:\n",
    "        row, col = divmod(state, grid_cols)\n",
    "        optimal_path.append((row, col))\n",
    "        action = policy(state)\n",
    "        tup = env.step(action)\n",
    "        state, _, done, _ = tup if len(tup) == 4 else (tup[0], tup[1], tup[2], None)\n",
    "\n",
    "    # Mark the start and goal positions\n",
    "    start_row, start_col = divmod(start_state, grid_cols)\n",
    "    goal_row, goal_col = divmod(goal_state, grid_cols)\n",
    "\n",
    "    # Plot the grid\n",
    "    plt.figure(figsize=(12, 4))\n",
    "    for r in range(grid_rows):\n",
    "        for c in range(grid_cols):\n",
    "            if (r, c) in optimal_path:\n",
    "                color = \"red\" if (r, c) != (start_row, start_col) and (r, c) != (goal_row, goal_col) else \"green\"\n",
    "                plt.text(c, r, 'O', ha='center', va='center', color=color, fontsize=12, fontweight='bold')\n",
    "            elif grid[r, c] == -100:\n",
    "                plt.text(c, r, 'Cliff', ha='center', va='center', color='gray', fontsize=8, fontweight='bold')\n",
    "\n",
    "    # Highlight start and goal\n",
    "    plt.text(start_col, start_row, 'S', ha='center', va='center', color='blue', fontsize=14, fontweight='bold')\n",
    "    plt.text(goal_col, goal_row, 'G', ha='center', va='center', color='blue', fontsize=14, fontweight='bold')\n",
    "\n",
    "    # Draw the grid\n",
    "    plt.xlim(-0.5, grid_cols - 0.5)\n",
    "    plt.ylim(grid_rows - 0.5, -0.5)\n",
    "    plt.xticks(range(grid_cols))\n",
    "    plt.yticks(range(grid_rows))\n",
    "    plt.grid(True)\n",
    "    plt.title(\"Cliff Walking Optimal Path\")\n",
    "    plt.show()\n",
    "\n",
    "# Plot the optimal path\n",
    "plot_cliffwalking_paths(Q, env, policy)\n"
   ]
  }
 ],
 "metadata": {
  "kernelspec": {
   "display_name": "Python 3",
   "language": "python",
   "name": "python3"
  },
  "language_info": {
   "codemirror_mode": {
    "name": "ipython",
    "version": 3
   },
   "file_extension": ".py",
   "mimetype": "text/x-python",
   "name": "python",
   "nbconvert_exporter": "python",
   "pygments_lexer": "ipython3",
   "version": "3.10.12"
  }
 },
 "nbformat": 4,
 "nbformat_minor": 2
}
