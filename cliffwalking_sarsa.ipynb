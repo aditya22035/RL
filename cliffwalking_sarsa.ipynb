{
 "cells": [
  {
   "cell_type": "code",
   "execution_count": 27,
   "metadata": {},
   "outputs": [],
   "source": [
    "import numpy as np  \n",
    "import matplotlib.pyplot as plt\n",
    "import gymnasium as gym\n",
    "import time\n",
    "import os\n",
    "from collections import defaultdict"
   ]
  },
  {
   "cell_type": "code",
   "execution_count": 28,
   "metadata": {},
   "outputs": [
    {
     "name": "stdout",
     "output_type": "stream",
     "text": [
      "Number of actions:  4\n",
      "Number of states:  48\n"
     ]
    }
   ],
   "source": [
    "env = gym.make('CliffWalking-v0')\n",
    "numactions = env.action_space.n\n",
    "numstates = env.observation_space.n\n",
    "print(\"Number of actions: \", numactions)\n",
    "print(\"Number of states: \", numstates)"
   ]
  },
  {
   "cell_type": "code",
   "execution_count": 29,
   "metadata": {},
   "outputs": [
    {
     "name": "stdout",
     "output_type": "stream",
     "text": [
      "Initial state:  36\n",
      "info {'prob': 1}\n"
     ]
    }
   ],
   "source": [
    "state, _ = env.reset()\n",
    "print(\"Initial state: \", state)\n",
    "print(\"info\", _)"
   ]
  },
  {
   "cell_type": "code",
   "execution_count": 30,
   "metadata": {},
   "outputs": [
    {
     "name": "stdout",
     "output_type": "stream",
     "text": [
      "(24, -1, False, False, {'prob': 1.0})\n"
     ]
    },
    {
     "data": {
      "text/plain": [
       "'0: MOVE UP, 1: MOVE RIGHT, 2: MOVE DOWN, 3: MOVE LEFT'"
      ]
     },
     "execution_count": 30,
     "metadata": {},
     "output_type": "execute_result"
    }
   ],
   "source": [
    "print(env.step(0))\n",
    "'''0: MOVE UP, 1: MOVE RIGHT, 2: MOVE DOWN, 3: MOVE LEFT'''"
   ]
  },
  {
   "cell_type": "code",
   "execution_count": 31,
   "metadata": {},
   "outputs": [],
   "source": [
    "def epsilon_greedy_policy(epsilon,Q,env):\n",
    "  def policy(state):\n",
    "    if state not in Q:\n",
    "      #take any action with equal probability\n",
    "      return np.random.choice(env.action_space.n)\n",
    "    else:\n",
    "      #take the best action with probability 1-epsilon\n",
    "      if np.random.random() > epsilon:\n",
    "        return np.argmax(Q[state])\n",
    "      else:\n",
    "        return np.random.choice(env.action_space.n)\n",
    "  return policy"
   ]
  },
  {
   "cell_type": "code",
   "execution_count": 32,
   "metadata": {},
   "outputs": [],
   "source": [
    "def generate_episode(env,policy):\n",
    "  episode = []\n",
    "  state, _ = env.reset()\n",
    "  done = False\n",
    "  while not done:\n",
    "    action = policy(state)\n",
    "    tup = env.step(action)\n",
    "    next_state, reward, done = tup[0], tup[1], tup[2]\n",
    "    episode.append((state,action,reward))\n",
    "    state = next_state\n",
    "  return episode"
   ]
  },
  {
   "cell_type": "code",
   "execution_count": 33,
   "metadata": {},
   "outputs": [],
   "source": [
    "def sarsa(env,numeps,epsilon,alpha,gamma):\n",
    "  Q = defaultdict(lambda: np.zeros(env.action_space.n))\n",
    "  for i in range(numeps):\n",
    "    if i%10000 == 0:\n",
    "      print(\"Episode \", i)\n",
    "    state, _ = env.reset()\n",
    "    done = False\n",
    "    while not done:\n",
    "      policy = epsilon_greedy_policy(epsilon,Q,env)\n",
    "      action = policy(state)\n",
    "      tup = env.step(action)\n",
    "      next_state, reward, done = tup[0], tup[1], tup[2] \n",
    "      Q[state][action] = Q[state][action] + alpha*(reward + gamma*Q[next_state][policy(next_state)] - Q[state][action])\n",
    "      state = next_state\n",
    "      \n",
    "      \n",
    "  return Q, policy"
   ]
  },
  {
   "cell_type": "code",
   "execution_count": 34,
   "metadata": {},
   "outputs": [
    {
     "name": "stdout",
     "output_type": "stream",
     "text": [
      "Episode  0\n",
      "Episode  10000\n",
      "Episode  20000\n",
      "Episode  30000\n",
      "Episode  40000\n",
      "Episode  50000\n",
      "Episode  60000\n",
      "Episode  70000\n",
      "Episode  80000\n",
      "Episode  90000\n",
      "Episode  100000\n",
      "Episode  110000\n",
      "Episode  120000\n",
      "Episode  130000\n",
      "Episode  140000\n",
      "Episode  150000\n",
      "Episode  160000\n",
      "Episode  170000\n",
      "Episode  180000\n",
      "Episode  190000\n",
      "Episode  200000\n",
      "Episode  210000\n",
      "Episode  220000\n",
      "Episode  230000\n",
      "Episode  240000\n",
      "Episode  250000\n",
      "Episode  260000\n",
      "Episode  270000\n",
      "Episode  280000\n",
      "Episode  290000\n",
      "Episode  300000\n",
      "Episode  310000\n",
      "Episode  320000\n",
      "Episode  330000\n",
      "Episode  340000\n",
      "Episode  350000\n",
      "Episode  360000\n",
      "Episode  370000\n",
      "Episode  380000\n",
      "Episode  390000\n",
      "Episode  400000\n",
      "Episode  410000\n",
      "Episode  420000\n",
      "Episode  430000\n",
      "Episode  440000\n",
      "Episode  450000\n",
      "Episode  460000\n",
      "Episode  470000\n",
      "Episode  480000\n",
      "Episode  490000\n"
     ]
    }
   ],
   "source": [
    "Q, policy = sarsa(env,500000,0.1,0.1,1.0)"
   ]
  },
  {
   "cell_type": "code",
   "execution_count": 35,
   "metadata": {},
   "outputs": [],
   "source": [
    "#extracting the value function from the Q function\n",
    "V = defaultdict(float)\n",
    "for state, actions in Q.items():\n",
    "  action_value = np.max(actions)\n",
    "  V[state] = action_value\n",
    "  \n",
    "  "
   ]
  },
  {
   "cell_type": "code",
   "execution_count": 36,
   "metadata": {},
   "outputs": [
    {
     "data": {
      "image/png": "[encoded data removed]",
      "text/plain": [
       "<Figure size 640x480 with 2 Axes>"
      ]
     },
     "metadata": {},
     "output_type": "display_data"
    }
   ],
   "source": [
    "#plotting the value function\n",
    "V = np.array([V[key] for key in np.arange(0,48)])\n",
    "V = np.reshape(V,(4,12))\n",
    "plt.imshow(V, cmap='hot', interpolation='nearest')\n",
    "plt.colorbar()\n",
    "plt.title(\"Value function\")\n",
    "plt.show()\n",
    "\n"
   ]
  },
  {
   "cell_type": "code",
   "execution_count": null,
   "metadata": {},
   "outputs": [
    {
     "data": {
      "image/png": "[encoded data removed]",
      "text/plain": [
       "<Figure size 1200x400 with 1 Axes>"
      ]
     },
     "metadata": {},
     "output_type": "display_data"
    }
   ],
   "source": [
    "def plot_cliffwalking_paths(Q, env):\n",
    "    grid_rows, grid_cols = 4, 12  # Grid dimensions for CliffWalking-v0\n",
    "    start_state = 36  # Start state index\n",
    "    goal_state = 47   # Goal state index\n",
    "\n",
    "    # Initialize the grid\n",
    "    grid = np.zeros((grid_rows, grid_cols), dtype=int)\n",
    "\n",
    "    # Define the cliff area\n",
    "    cliff_indices = np.arange(37, 47)\n",
    "    for idx in cliff_indices:\n",
    "        row, col = divmod(idx, grid_cols)\n",
    "        grid[row, col] = -100  # Cliff cells\n",
    "\n",
    "    # Compute the optimal path\n",
    "    state, _ = env.reset()\n",
    "    optimal_path = []\n",
    "    done = False\n",
    "    while not done:\n",
    "        row, col = divmod(state, grid_cols)\n",
    "        optimal_path.append((row, col))\n",
    "        action = np.argmax(Q[state]) \n",
    "        tup = env.step(action)\n",
    "        state, _, done, _ = tup if len(tup) == 4 else (tup[0], tup[1], tup[2], None)\n",
    "\n",
    "    # Mark the start and goal positions\n",
    "    start_row, start_col = divmod(start_state, grid_cols)\n",
    "    goal_row, goal_col = divmod(goal_state, grid_cols)\n",
    "\n",
    "    # Plot the grid\n",
    "    plt.figure(figsize=(12, 4))\n",
    "    for r in range(grid_rows):\n",
    "        for c in range(grid_cols):\n",
    "            if (r, c) in optimal_path:\n",
    "                color = \"red\" if (r, c) != (start_row, start_col) and (r, c) != (goal_row, goal_col) else \"green\"\n",
    "                plt.text(c, r, 'O', ha='center', va='center', color=color, fontsize=12, fontweight='bold')\n",
    "            elif grid[r, c] == -100:\n",
    "                plt.text(c, r, 'Cliff', ha='center', va='center', color='gray', fontsize=8, fontweight='bold')\n",
    "\n",
    "    # Highlight start and goal\n",
    "    plt.text(start_col, start_row, 'S', ha='center', va='center', color='blue', fontsize=14, fontweight='bold')\n",
    "    plt.text(goal_col, goal_row, 'G', ha='center', va='center', color='blue', fontsize=14, fontweight='bold')\n",
    "\n",
    "    # Draw the grid\n",
    "    plt.xlim(-0.5, grid_cols - 0.5)\n",
    "    plt.ylim(grid_rows - 0.5, -0.5)\n",
    "    plt.xticks(range(grid_cols))\n",
    "    plt.yticks(range(grid_rows))\n",
    "    plt.grid(True)\n",
    "    plt.title(\"Cliff Walking Optimal Path\")\n",
    "    plt.show()\n",
    "\n",
    "# Plot the optimal path\n",
    "plot_cliffwalking_paths(Q, env)\n"
   ]
  }
 ],
 "metadata": {
  "kernelspec": {
   "display_name": "Python 3",
   "language": "python",
   "name": "python3"
  },
  "language_info": {
   "codemirror_mode": {
    "name": "ipython",
    "version": 3
   },
   "file_extension": ".py",
   "mimetype": "text/x-python",
   "name": "python",
   "nbconvert_exporter": "python",
   "pygments_lexer": "ipython3",
   "version": "3.10.12"
  }
 },
 "nbformat": 4,
 "nbformat_minor": 2
}
