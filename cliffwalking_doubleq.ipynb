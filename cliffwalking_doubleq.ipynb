{
 "cells": [
  {
   "cell_type": "code",
   "execution_count": 110,
   "metadata": {},
   "outputs": [],
   "source": [
    "import numpy as np \n",
    "import matplotlib.pyplot as plt\n",
    "import os\n",
    "import gymnasium as gym \n",
    "from collections import defaultdict\n",
    "import copy"
   ]
  },
  {
   "cell_type": "code",
   "execution_count": 111,
   "metadata": {},
   "outputs": [],
   "source": [
    "env = gym.make('CliffWalking-v0')"
   ]
  },
  {
   "cell_type": "code",
   "execution_count": 112,
   "metadata": {},
   "outputs": [],
   "source": [
    "def epsilon_greedy(env,Q,epsilon):\n",
    "  def policy(state):\n",
    "    if state not in Q:\n",
    "      return np.random.choice(env.action_space.n)\n",
    "    else:\n",
    "      if np.random.rand() < epsilon:\n",
    "        return np.random.choice(env.action_space.n)\n",
    "      else:\n",
    "        return np.argmax(Q[state])\n",
    "  return policy"
   ]
  },
  {
   "cell_type": "code",
   "execution_count": 113,
   "metadata": {},
   "outputs": [],
   "source": [
    "numeps = 1000\n",
    "epsilon = 0.1\n",
    "alpha = 0.1\n",
    "gamma = 1.0"
   ]
  },
  {
   "cell_type": "code",
   "execution_count": 114,
   "metadata": {},
   "outputs": [],
   "source": [
    "def deterministic_greedy(Q):\n",
    "  def policy(state):\n",
    "    return np.argmax(Q)\n",
    "  return policy"
   ]
  },
  {
   "cell_type": "code",
   "execution_count": 115,
   "metadata": {},
   "outputs": [],
   "source": [
    "def sumQ(Q1, Q2):\n",
    "  # More efficient dictionary merging\n",
    "  Q = defaultdict(lambda: np.zeros(Q1[next(iter(Q1))].shape))\n",
    "  for key in set(Q1.keys()) | set(Q2.keys()):\n",
    "    Q[key] = Q1[key] + Q2[key]\n",
    "  return Q"
   ]
  },
  {
   "cell_type": "code",
   "execution_count": 116,
   "metadata": {},
   "outputs": [],
   "source": [
    "def double_qlearning(env,numeps,epsilon,alpha,gamma):\n",
    "  action_space_n = env.action_space.n\n",
    "  Q1 = defaultdict(lambda: np.zeros(action_space_n, dtype=np.float32))\n",
    "  Q2 = defaultdict(lambda: np.zeros(action_space_n, dtype=np.float32))\n",
    "  policy = epsilon_greedy(env,sumQ(Q1,Q2),epsilon)\n",
    "  \n",
    "  \n",
    "  for i in range(1,numeps+1):\n",
    "    if i % 1000  == 0:\n",
    "      print(f'episode = {i}')\n",
    "    \n",
    "    \n",
    "    state, _ = env.reset()\n",
    "    done = False\n",
    "    \n",
    "    while not done:\n",
    "      action = policy(state)\n",
    "      tup = env.step(action)\n",
    "      next_state, reward, terminated, truncated = tup[0], tup[1], tup[2], tup[3]\n",
    "      done = terminated or truncated\n",
    "      flag = np.random.choice([0,1])\n",
    "      if flag:#bootstrap using action values from Q2 but the action is greedy over q1 \n",
    "        action_greedy = np.argmax(Q1[next_state])\n",
    "        Q1[state][action] = Q1[state][action] + alpha*(reward + gamma*Q2[next_state][action_greedy] - Q1[state][action])\n",
    "      else:#bootstrap using action values from Q1 but the action is greedy over q2\n",
    "        action_greedy = np.argmax(Q2[next_state])\n",
    "        Q2[state][action] = Q2[state][action] + alpha*(reward + gamma*Q1[next_state][action_greedy] - Q2[state][action])\n",
    "      state = next_state\n",
    "      \n",
    "  Q = sumQ(Q1,Q2)\n",
    "    \n",
    "  return lambda state:np.argmax(Q[state]), Q"
   ]
  },
  {
   "cell_type": "code",
   "execution_count": 117,
   "metadata": {},
   "outputs": [
    {
     "name": "stdout",
     "output_type": "stream",
     "text": [
      "episode = 1000\n"
     ]
    }
   ],
   "source": [
    "policy, Q = double_qlearning(env,numeps,epsilon,alpha,gamma)"
   ]
  },
  {
   "cell_type": "code",
   "execution_count": 118,
   "metadata": {},
   "outputs": [
    {
     "name": "stdout",
     "output_type": "stream",
     "text": [
      "defaultdict(<function sumQ.<locals>.<lambda> at 0x7f68500189d0>, {0: array([-29.999924, -27.999931, -27.999931, -29.999924], dtype=float32), 1: array([-27.999931, -25.999939, -25.999939, -29.999924], dtype=float32), 2: array([-25.999939, -23.999947, -23.999947, -27.999931], dtype=float32), 3: array([-23.999947, -21.999954, -21.999954, -25.999939], dtype=float32), 4: array([-21.999954, -19.999962, -19.999962, -23.999947], dtype=float32), 5: array([-19.999962, -17.99997 , -17.99997 , -21.999954], dtype=float32), 6: array([-17.99997 , -15.999979, -15.999979, -19.999962], dtype=float32), 7: array([-15.999979, -13.999983, -13.999983, -17.99997 ], dtype=float32), 8: array([-13.999983, -11.999987, -11.999987, -15.999979], dtype=float32), 9: array([-11.999987,  -9.99999 ,  -9.99999 , -13.999983], dtype=float32), 10: array([ -9.99999  ,  -7.9999943,  -7.9999943, -11.999987 ], dtype=float32), 11: array([-7.9999943, -7.9999943, -5.999996 , -9.99999  ], dtype=float32), 12: array([-29.999924, -25.999939, -25.999939, -27.999931], dtype=float32), 13: array([-27.999931, -23.999947, -23.999947, -27.999931], dtype=float32), 14: array([-25.999939, -21.999954, -21.999954, -25.999939], dtype=float32), 15: array([-23.999947, -19.999962, -19.999962, -23.999947], dtype=float32), 16: array([-21.999954, -17.99997 , -17.99997 , -21.999954], dtype=float32), 17: array([-19.999962, -15.999979, -15.999979, -19.999962], dtype=float32), 18: array([-17.99997 , -13.999983, -13.999983, -17.99997 ], dtype=float32), 19: array([-15.999979, -11.999987, -11.999987, -15.999979], dtype=float32), 20: array([-13.999983,  -9.99999 ,  -9.99999 , -13.999983], dtype=float32), 21: array([-11.999987 ,  -7.9999943,  -7.9999943, -11.999987 ], dtype=float32), 22: array([-9.99999 , -5.999996, -5.999996, -9.99999 ], dtype=float32), 23: array([-7.9999943, -5.999996 , -3.9999986, -7.9999943], dtype=float32), 24: array([-27.999931, -23.999947, -27.999931, -25.999939], dtype=float32), 25: array([ -25.999939,  -21.999954, -225.99988 ,  -25.999939], dtype=float32), 26: array([ -23.999947,  -19.999962, -225.99988 ,  -23.999947], dtype=float32), 27: array([ -21.999954,  -17.99997 , -225.99988 ,  -21.999954], dtype=float32), 28: array([ -19.999962,  -15.999979, -225.99988 ,  -19.999962], dtype=float32), 29: array([ -17.99997 ,  -13.999983, -225.99988 ,  -17.99997 ], dtype=float32), 30: array([ -15.999979,  -11.999987, -225.99988 ,  -15.999979], dtype=float32), 31: array([ -13.999983,   -9.99999 , -225.99988 ,  -13.999983], dtype=float32), 32: array([ -11.999987 ,   -7.9999943, -225.99988  ,  -11.999987 ],\n",
      "      dtype=float32), 33: array([  -9.99999 ,   -5.999996, -225.99988 ,   -9.99999 ], dtype=float32), 34: array([  -7.9999943,   -3.9999986, -225.99988  ,   -7.9999943],\n",
      "      dtype=float32), 35: array([-5.999996 , -3.9999986, -1.9999995, -5.999996 ], dtype=float32), 36: array([ -25.999939, -225.99988 ,  -27.999931,  -27.999931], dtype=float32), 47: array([0., 0., 0., 0.], dtype=float32)})\n"
     ]
    }
   ],
   "source": [
    "print(Q)"
   ]
  },
  {
   "cell_type": "markdown",
   "metadata": {},
   "source": [
    "''' \n",
    "FUNCTION plot_cliff_path:\n",
    "    1. Setup Constants\n",
    "       - grid is 4x12\n",
    "       - start = 36, goal = 47\n",
    "       - cliffs = positions 37-46\n",
    "\n",
    "    2. Basic Plot Setup\n",
    "       - create 12x4 figure\n",
    "       - set grid = True\n",
    "       - set axes: x(-0.5 to 11.5), y(3.5 to -0.5)\n",
    "       - set ticks: x(0-11), y(0-3)\n",
    "\n",
    "    3. Draw Fixed Elements\n",
    "       - for each cliff position (37-46):\n",
    "           put 'C' at (pos % 12, pos // 12)\n",
    "       - put 'S' at start position (36 % 12, 36 // 12)\n",
    "       - put 'G' at goal position (47 % 12, 47 // 12)\n",
    "\n",
    "    4. Draw Path\n",
    "       - reset environment\n",
    "       - while not done:\n",
    "           - if current != start and != goal:\n",
    "               put 'o' at (state % 12, state // 12)\n",
    "           - get next state using policy\n",
    "           - update done condition\n",
    "\n",
    "    5. Show plot\n",
    "    \n",
    "    \n",
    "    Key things to remember:\n",
    "\n",
    "  Grid conversion: position to (x,y) is always (pos % 12, pos // 12)\n",
    "\n",
    "  Fixed positions: start=36, goal=47, cliffs=37-46\n",
    "  \n",
    "  Plot elements are: 'C'=cliff, 'S'=start, 'G'=goal, 'o'=path\n",
    "\n",
    "  Axes need both limits (-0.5 to max+0.5) and ticks (0 to max)\n",
    "\n",
    "'''"
   ]
  },
  {
   "cell_type": "code",
   "execution_count": 122,
   "metadata": {},
   "outputs": [
    {
     "data": {
      "image/png": "[encoded data removed]",
      "text/plain": [
       "<Figure size 1200x400 with 1 Axes>"
      ]
     },
     "metadata": {},
     "output_type": "display_data"
    }
   ],
   "source": [
    "def plot_cliff_path(Q, env, policy):\n",
    "    # Grid dimensions\n",
    "    rows, cols = 4, 12\n",
    "    start, goal = 36, 47\n",
    "    \n",
    "    # Setup plot\n",
    "    plt.figure(figsize=(12, 4))\n",
    "    \n",
    "    # Draw grid\n",
    "    plt.grid(True)\n",
    "    plt.xlim(-0.5, cols - 0.5)\n",
    "    plt.ylim(rows - 0.5, -0.5)\n",
    "    plt.xticks(range(cols))\n",
    "    plt.yticks(range(rows))\n",
    "    \n",
    "    # Draw cliffs\n",
    "    for cliff in range(37, 47):\n",
    "        r, c = cliff // cols, cliff % cols\n",
    "        plt.text(c, r, 'C', ha='center', color='gray')\n",
    "    \n",
    "    # Draw start and goal\n",
    "    plt.text(start % cols, start // cols, 'S', ha='center', color='blue')\n",
    "    plt.text(goal % cols, goal // cols, 'G', ha='center', color='blue')\n",
    "    \n",
    "    # Draw optimal path\n",
    "    state, _ = env.reset()\n",
    "    done = False\n",
    "    \n",
    "    while not done:\n",
    "        r, c = state // cols, state % cols\n",
    "        \n",
    "        # Don't mark start and goal with dots\n",
    "        if state != start and state != goal:\n",
    "            plt.text(c, r, 'o', ha='center', color='red')\n",
    "            \n",
    "        action = policy(state)\n",
    "        next_state, _, terminated, truncated, _ = env.step(action)\n",
    "        done = terminated or truncated\n",
    "        state = next_state\n",
    "    \n",
    "    plt.title(\"Cliff Walking Path\")\n",
    "    plt.show()\n",
    "    \n",
    "plot_cliff_path(Q, env, policy)\n",
    "    \n"
   ]
  }
 ],
 "metadata": {
  "kernelspec": {
   "display_name": "Python 3",
   "language": "python",
   "name": "python3"
  },
  "language_info": {
   "codemirror_mode": {
    "name": "ipython",
    "version": 3
   },
   "file_extension": ".py",
   "mimetype": "text/x-python",
   "name": "python",
   "nbconvert_exporter": "python",
   "pygments_lexer": "ipython3",
   "version": "3.10.12"
  }
 },
 "nbformat": 4,
 "nbformat_minor": 2
}
